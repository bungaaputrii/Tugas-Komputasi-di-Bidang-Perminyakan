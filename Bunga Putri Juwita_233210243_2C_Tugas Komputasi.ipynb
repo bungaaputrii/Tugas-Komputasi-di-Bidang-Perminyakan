{
 "cells": [
  {
   "cell_type": "markdown",
   "metadata": {},
   "source": [
    "# 1. Menghitung Volume Reservoir"
   ]
  },
  {
   "cell_type": "code",
   "execution_count": 1,
   "metadata": {},
   "outputs": [
    {
     "name": "stdout",
     "output_type": "stream",
     "text": [
      "r :  7.0 meter\n",
      "h :  19.0 meter\n",
      "volume reservoir = 3.14 * r ** 2 * h:\n",
      "volume reservoir =  2923.34 meter kubik\n"
     ]
    }
   ],
   "source": [
    "# Input\n",
    "r = float(input(\"radius = \"))\n",
    "h = float(input(\"tinggi = \"))\n",
    "\n",
    "# Proses menghitung volume reservoir\n",
    "volume = 3.14 * r ** 2 * h\n",
    "\n",
    "# output volume reservoir\n",
    "print(\"r : \", (r), \"meter\")\n",
    "print(\"h : \",(h), \"meter\")\n",
    "print(\"volume reservoir = 3.14 * r ** 2 * h:\")\n",
    "print(f\"volume reservoir = {volume: } meter kubik\")"
   ]
  },
  {
   "cell_type": "markdown",
   "metadata": {},
   "source": [
    "# 2.Menghitung Porositas"
   ]
  },
  {
   "cell_type": "code",
   "execution_count": 3,
   "metadata": {},
   "outputs": [
    {
     "name": "stdout",
     "output_type": "stream",
     "text": [
      "vp :  19.0\n",
      "vb :  20.0\n",
      "fluks = vp/vb*100\n",
      "fluks = 95.0 meter kubik\n"
     ]
    }
   ],
   "source": [
    "# Input\n",
    "vp = float(input(\"vp = \"))\n",
    "vb = float(input(\"vb = \"))\n",
    "\n",
    "# Proses menghitung porositas\n",
    "fluks = vp/vb*100\n",
    "\n",
    "# output volume reservoir\n",
    "print(\"vp : \", (vp))\n",
    "print(\"vb : \",(vb))\n",
    "print(\"fluks = vp/vb*100\")\n",
    "print(f\"fluks = {fluks:} meter kubik\")"
   ]
  },
  {
   "cell_type": "markdown",
   "metadata": {},
   "source": [
    "# 3.Mengitung Laju Alir Minyak"
   ]
  },
  {
   "cell_type": "code",
   "execution_count": 4,
   "metadata": {},
   "outputs": [
    {
     "name": "stdout",
     "output_type": "stream",
     "text": [
      "v :  21 barel\n",
      "t :  30 jam\n",
      "Q = v/t\n",
      "Q = 0.700 barel per jam\n"
     ]
    }
   ],
   "source": [
    "# Input\n",
    "v = int(input(\"volume = \"))\n",
    "t = int(input(\"tinggi = \"))\n",
    "\n",
    "# Proses menghitung laju alir minyak\n",
    "Q = v/t\n",
    "\n",
    "# output volume reservoir\n",
    "print(\"v : \", (v), \"barel\")\n",
    "print(\"t : \",(t), \"jam\")\n",
    "print(\"Q = v/t\")\n",
    "print(\"Q = %.3f\" %(Q), \"barel per jam\")"
   ]
  },
  {
   "cell_type": "markdown",
   "metadata": {},
   "source": [
    "# 4. Menghitung Faktor Pemulihan (Recovery Factor) dengan Material Balance Equation"
   ]
  },
  {
   "cell_type": "code",
   "execution_count": 5,
   "metadata": {},
   "outputs": [
    {
     "name": "stdout",
     "output_type": "stream",
     "text": [
      "Np :  20000 barel\n",
      "N :  7000 barel\n",
      "RF = Np/N+(0.1/N)\n",
      "RF = 2.8572 meter kubik\n"
     ]
    }
   ],
   "source": [
    "# Input\n",
    "Np = int(input(\"jumlah minyak diproduksi = \"))\n",
    "N = int(input(\"jumlah minyak awal = \"))\n",
    "\n",
    "# Proses Menghitung Faktor Pemulihan (Recovery Factor) Dengan Material Balance Equation\n",
    "RF = Np/N+(0.1/N)\n",
    "\n",
    "# output volume reservoir\n",
    "print(\"Np : \", (Np), \"barel\")\n",
    "print(\"N : \",(N), \"barel\")\n",
    "print(\"RF = Np/N+(0.1/N)\")\n",
    "print(\"RF = %.4f\" %(RF), \"meter kubik\")"
   ]
  },
  {
   "cell_type": "markdown",
   "metadata": {},
   "source": [
    "# 5.Menghitung Permeabilitas Efektif"
   ]
  },
  {
   "cell_type": "code",
   "execution_count": 8,
   "metadata": {},
   "outputs": [
    {
     "name": "stdout",
     "output_type": "stream",
     "text": [
      "krw :  34.0\n",
      "Sw :  120.0\n",
      "Sor :  201.0\n",
      "kr=krw*(Sw**2)*(1-Sor-Sw)**2:\n",
      "kr = 50135040000.000000 meter kubik\n"
     ]
    }
   ],
   "source": [
    "# Input\n",
    "krw = float(input(\"permeabilitas relatif air = \"))\n",
    "Sw = float(input(\"saturasi air = \"))\n",
    "Sor = float(input(\"saturasi minyak residual = \"))\n",
    "\n",
    "# Proses Menghitung Permeabilitas Efektif\n",
    "kr=krw*(Sw**2)*(1-Sor-Sw)**2\n",
    "\n",
    "# output volume reservoir\n",
    "print(\"krw : \", (krw))\n",
    "print(\"Sw : \",(Sw))\n",
    "print(\"Sor : \",(Sor))\n",
    "print(\"kr=krw*(Sw**2)*(1-Sor-Sw)**2:\")\n",
    "print(f\"kr = {kr:2f} meter kubik\")"
   ]
  }
 ],
 "metadata": {
  "kernelspec": {
   "display_name": "Python 3",
   "language": "python",
   "name": "python3"
  },
  "language_info": {
   "codemirror_mode": {
    "name": "ipython",
    "version": 3
   },
   "file_extension": ".py",
   "mimetype": "text/x-python",
   "name": "python",
   "nbconvert_exporter": "python",
   "pygments_lexer": "ipython3",
   "version": "3.12.2"
  }
 },
 "nbformat": 4,
 "nbformat_minor": 2
}
